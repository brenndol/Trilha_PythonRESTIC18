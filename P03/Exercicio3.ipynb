{
 "cells": [
  {
   "cell_type": "markdown",
   "metadata": {},
   "source": [
    "Levando em consideração que a escolha entre usar uma lista padrão do Python e um ndarray da biblioteca NumPy para armazenar valores depende das necessidades específicas do programa, vamos avaliar vantagens e desvantagens de utilizar um ndarray em comparação com uma lista com base na classe ListaSalarios implementada anteriormente. \n",
    "\n",
    "## Vantagens do 'ndarray':\n",
    "\n",
    "### 1. Eficiência em operações numéricas:\n",
    "NumPy é otimizado para operações numéricas e oferece um desempenho superior em comparação com listas padrão do Python. Isso é especialmente importante se estivermos realizando operações matriciais ou algébricas.\n",
    "\n",
    "Exemplo:"
   ]
  },
  {
   "cell_type": "code",
   "execution_count": null,
   "metadata": {
    "vscode": {
     "languageId": "polyglot-notebook"
    }
   },
   "outputs": [],
   "source": [
    "import numpy as np\n",
    "\n",
    "# Convertendo uma lista para um ndarray\n",
    "lista = [1, 2, 3, 4, 5]\n",
    "ndarray = np.array(lista)\n",
    "\n",
    "# Operação numérica\n",
    "resultado = ndarray * 2\n"
   ]
  },
  {
   "cell_type": "markdown",
   "metadata": {},
   "source": [
    "### 2. Funcionalidades Específicas para Dados Numéricos:\n",
    "\n",
    "NumPy oferece funções específicas para manipulação de dados numéricos, como cálculos estatísticos, que podem ser úteis em análises de salários.\n",
    "\n",
    "Exemplo:"
   ]
  },
  {
   "cell_type": "code",
   "execution_count": null,
   "metadata": {
    "vscode": {
     "languageId": "polyglot-notebook"
    }
   },
   "outputs": [],
   "source": [
    "import numpy as np\n",
    "\n",
    "salarios = np.array([1000, 2000, 1500, 2500])\n",
    "\n",
    "# Calcular a média\n",
    "media = np.mean(salarios)\n"
   ]
  },
  {
   "cell_type": "markdown",
   "metadata": {},
   "source": [
    "### 3. Facilidade na Manipulação de Dados Multidimensionais:\n",
    "\n",
    "Se os dados tiverem mais de uma dimensão, como em séries temporais ou dados bidimensionais, um ndarray pode ser mais conveniente para manipulação.\n",
    "\n",
    "Exemplo:"
   ]
  },
  {
   "cell_type": "code",
   "execution_count": null,
   "metadata": {
    "vscode": {
     "languageId": "polyglot-notebook"
    }
   },
   "outputs": [],
   "source": [
    "import numpy as np\n",
    "\n",
    "# Criar uma matriz bidimensional\n",
    "matriz_salarios = np.array([[1000, 1200], [1500, 1800], [2000, 2200]])\n",
    "\n",
    "# Calcular a média por coluna\n",
    "media_por_coluna = np.mean(matriz_salarios, axis=0)\n"
   ]
  },
  {
   "cell_type": "markdown",
   "metadata": {},
   "source": [
    "## Desvantagens do 'ndarray':\n",
    "\n",
    "### 1. Flexibilidade limitada:\n",
    "\n",
    "Listas do Python são mais flexíveis e podem conter diferentes tipos de dados. ndarrays são homogêneos, o que significa que todos os elementos devem ser do mesmo tipo.\n",
    "\n",
    "Exemplo:"
   ]
  },
  {
   "cell_type": "code",
   "execution_count": null,
   "metadata": {
    "vscode": {
     "languageId": "polyglot-notebook"
    }
   },
   "outputs": [],
   "source": [
    "# Lista heterogênea (tipos diferentes)\n",
    "lista_heterogenea = [1, 'dois', 3.0]\n",
    "\n",
    "# ndarray homogêneo (todos os elementos do mesmo tipo)\n",
    "ndarray_homogeneo = np.array([1, 2, 3.0])  # Os inteiros serão convertidos para float\n"
   ]
  },
  {
   "cell_type": "markdown",
   "metadata": {},
   "source": [
    "### 2. Complexidade de instalação:\n",
    "Se o projeto não depende de muitas funcionalidades específicas do NumPy, adicionar essa dependência pode ser excessivo, especialmente para projetos menores.\n",
    "\n",
    "Exemplo:"
   ]
  },
  {
   "cell_type": "code",
   "execution_count": null,
   "metadata": {
    "vscode": {
     "languageId": "polyglot-notebook"
    }
   },
   "outputs": [],
   "source": [
    "# Instalação do NumPy\n",
    "pip install numpy\n"
   ]
  },
  {
   "cell_type": "markdown",
   "metadata": {},
   "source": [
    "### 3. Memória Fixa:\n",
    "NumPy alocará uma quantidade fixa de memória para o ndarray. Isso pode ser uma desvantagem se estivermos trabalhando com grandes conjuntos de dados que podem crescer dinamicamente.\n",
    "\n",
    "## Conclusões:\n",
    "\n",
    "Se o programa envolve principalmente manipulação numérica eficiente e análise estatística, o uso de ndarray do NumPy pode ser uma escolha mais apropriada.\n",
    "\n",
    "Se precisarmos de mais flexibilidade e não estivermos realizando muitas operações numéricas complexas, uma lista padrão do Python pode ser mais simples e suficiente para suprir as necessidades.\n",
    "\n",
    "Além disso, é importante considerar o tamanho do conjunto de dados e os requisitos específicos do projeto ao tomar a decisão, pois a escolha entre lista e ndarray dependerá muito do contexto específico do projeto e dos requisitos das operações que se pretende realizar.\n",
    "\n",
    "No contexto da classe ListaSalarios, usaremos uma lista padrão do Python se:\n",
    "\n",
    "- Os salários podem ser de tipos diferentes (inteiros, ponto flutuante, etc.), uma lista padrão é mais flexível, pois permite armazenar elementos de diferentes tipos na mesma lista.\n",
    "\n",
    "Exemplo:"
   ]
  },
  {
   "cell_type": "code",
   "execution_count": null,
   "metadata": {
    "vscode": {
     "languageId": "polyglot-notebook"
    }
   },
   "outputs": [],
   "source": [
    "salarios = [1000, 1500.5, '2000']  # Lista heterogênea"
   ]
  },
  {
   "cell_type": "markdown",
   "metadata": {},
   "source": [
    "- Se as operações não envolvem cálculos numéricos complexos e valorizarmos a simplicidade, uma lista padrão pode ser mais fácil de usar.\n",
    "\n",
    "Exemplo:"
   ]
  },
  {
   "cell_type": "code",
   "execution_count": null,
   "metadata": {
    "vscode": {
     "languageId": "polyglot-notebook"
    }
   },
   "outputs": [],
   "source": [
    "# Adicionar um salário à lista\n",
    "salarios.append(2500)"
   ]
  },
  {
   "cell_type": "markdown",
   "metadata": {},
   "source": [
    "Nesse mesmo contexto, usaremos um 'ndarray' do NumPy se:\n",
    "\n",
    "- estivermos realizando operações numéricas frequentes, como cálculos estatísticos ou manipulação de dados em grande escala, pois um ndarray oferecerá desempenho superior devido à otimização do NumPy para operações matriciais.\n",
    "\n",
    "Exemplo:"
   ]
  },
  {
   "cell_type": "code",
   "execution_count": null,
   "metadata": {
    "vscode": {
     "languageId": "polyglot-notebook"
    }
   },
   "outputs": [],
   "source": [
    "import numpy as np\n",
    "\n",
    "salarios = np.array([1000, 1500.5, 2000])\n",
    "media = np.mean(salarios)\n"
   ]
  },
  {
   "cell_type": "markdown",
   "metadata": {},
   "source": [
    "- Se os salários estiverem organizados em mais de uma dimensão (por exemplo, por ano e por funcionário), um ndarray pode oferecer maior facilidade de manipulação.\n",
    "\n",
    "Exemplo:"
   ]
  },
  {
   "cell_type": "code",
   "execution_count": null,
   "metadata": {
    "vscode": {
     "languageId": "polyglot-notebook"
    }
   },
   "outputs": [],
   "source": [
    "import numpy as np\n",
    "\n",
    "# Matriz bidimensional de salários (ano x funcionário)\n",
    "matriz_salarios = np.array([[1000, 1200], [1500, 1800], [2000, 2200]])\n"
   ]
  },
  {
   "cell_type": "markdown",
   "metadata": {},
   "source": [
    "- Se planejarmos utilizar funcionalidades específicas do NumPy, como cálculos estatísticos avançados, também convém usar ndarray.\n",
    "\n",
    "Exemplo:"
   ]
  },
  {
   "cell_type": "code",
   "execution_count": null,
   "metadata": {
    "vscode": {
     "languageId": "polyglot-notebook"
    }
   },
   "outputs": [],
   "source": [
    "import numpy as np\n",
    "\n",
    "salarios = np.array([1000, 1500.5, 2000])\n",
    "desvio_padrao = np.std(salarios)\n"
   ]
  },
  {
   "cell_type": "markdown",
   "metadata": {},
   "source": [
    "Resumindo:\n",
    "\n",
    "Se a flexibilidade de dados e a simplicidade são mais importantes para o caso trabalhado, uma lista padrão do Python pode ser a escolha mais adequada.\n",
    "\n",
    "Se o desempenho em operações numéricas e a manipulação eficiente de dados multidimensionais são prioridades, é importante considerar usar um ndarray do NumPy."
   ]
  }
 ],
 "metadata": {
  "language_info": {
   "name": "python"
  }
 },
 "nbformat": 4,
 "nbformat_minor": 2
}
