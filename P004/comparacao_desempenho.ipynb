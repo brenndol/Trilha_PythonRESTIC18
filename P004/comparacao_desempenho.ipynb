{
 "cells": [
  {
   "cell_type": "markdown",
   "metadata": {},
   "source": [
    "# Comparação de Desempenho: ListaSalario vs. ListaSalarioNumpy\n",
    "\n",
    "Neste notebook, vamos comparar o desempenho da implementação original usando listas com a implementação usando NumPy, usando a classe ListaSalario como base.\n",
    "\n",
    "## Implementação Original: ListaSalarioOriginal\n",
    "\n",
    "Vamos começar apresentando alguns métodos da classe `ListaSalario` original que utiliza listas para armazenar salários e calcular a média.\n"
   ]
  },
  {
   "cell_type": "code",
   "execution_count": null,
   "metadata": {
    "vscode": {
     "languageId": "plaintext"
    }
   },
   "outputs": [],
   "source": [
    "class ListaSalarioOriginal:\n",
    "\n",
    "    def __init__(self, nFuncionarios=1000000):\n",
    "        self.salarios = [0.0] * nFuncionarios\n",
    "\n",
    "    def calculaMedia(self):\n",
    "        return sum(self.salarios) / len(self.salarios)"
   ]
  },
  {
   "cell_type": "markdown",
   "metadata": {},
   "source": [
    "## Implementação com NumPy: ListaSalarioNumpy\n",
    "\n",
    "Agora, vamos definir a classe ListaSalarioNumpy que utiliza NumPy para armazenar salários e calcular a média."
   ]
  },
  {
   "cell_type": "code",
   "execution_count": null,
   "metadata": {
    "vscode": {
     "languageId": "plaintext"
    }
   },
   "outputs": [],
   "source": [
    "import numpy as np\n",
    "\n",
    "class ListaSalarioNumpy:\n",
    "    def __init__(self, nFuncionarios=1000000):\n",
    "        self.salarios = np.zeros(nFuncionarios, dtype=float)\n",
    "\n",
    "    def calculaMedia(self):\n",
    "        return np.mean(self.salarios)"
   ]
  },
  {
   "cell_type": "markdown",
   "metadata": {},
   "source": [
    "## Teste de Desempenho\n",
    "\n",
    "Agora, vamos realizar um teste de desempenho para medir o tempo de execução das duas implementações."
   ]
  },
  {
   "cell_type": "code",
   "execution_count": null,
   "metadata": {
    "vscode": {
     "languageId": "plaintext"
    }
   },
   "outputs": [],
   "source": [
    "import timeit\n",
    "\n",
    "def teste_desempenho(lista_salarios):\n",
    "    for i in range(len(lista_salarios.salarios)):\n",
    "        lista_salarios.salarios[i] = i + 1\n",
    "\n",
    "    media = lista_salarios.calculaMedia()\n",
    "    return media\n",
    "\n",
    "# Medição do tempo de execução para a implementação original\n",
    "tempo_original = timeit.timeit(\n",
    "    lambda: teste_desempenho(ListaSalarioOriginal()),\n",
    "    number=1\n",
    ")\n",
    "\n",
    "# Medição do tempo de execução para a implementação com NumPy\n",
    "tempo_numpy = timeit.timeit(\n",
    "    lambda: teste_desempenho(ListaSalarioNumpy()),\n",
    "    number=1\n",
    ")\n",
    "\n",
    "# Resultados\n",
    "print(f\"Tempo Original: {tempo_original} segundos\")\n",
    "print(f\"Tempo com Numpy: {tempo_numpy} segundos\")\n"
   ]
  },
  {
   "cell_type": "markdown",
   "metadata": {},
   "source": [
    "As conclusões podem variar dependendo do ambiente de execução, do hardware e do tamanho dos dados. No entanto, em cenários típicos, pode-se esperar observar benefícios de desempenho ao utilizar o NumPy, especialmente em operações vetorizadas. Aqui estão algumas considerações comuns:\n",
    "\n",
    "1. Vetorização em NumPy:\n",
    "\n",
    "NumPy é otimizado para operações vetorizadas, o que significa que muitas operações são executadas de maneira eficiente sem a necessidade de loops explícitos. Isso geralmente resulta em desempenho superior quando comparado a loops tradicionais com listas.\n",
    "\n",
    "2. Eficiência em Grandes Conjuntos de Dados:\n",
    "\n",
    "O NumPy é particularmente eficiente ao lidar com grandes conjuntos de dados. À medida que o tamanho dos dados aumenta, a diferença de desempenho entre NumPy e listas pode se tornar mais evidente.\n",
    "\n",
    "3. Caso Contrário - Overhead de NumPy:\n",
    "\n",
    "Em operações simples em conjuntos de dados pequenos, o overhead introduzido pelo NumPy pode não ser justificado. Listas podem ser suficientemente eficientes para esses casos.\n",
    "\n",
    "4. Cuidado com o Overhead Inicial:\n",
    "\n",
    "NumPy pode ter um pequeno overhead inicial ao criar arrays e realizar algumas operações. Em casos onde as operações são muito simples, esse overhead pode ser perceptível.\n",
    "\n",
    "5. Facilidade de Uso e Legibilidade:\n",
    "\n",
    "NumPy oferece uma sintaxe concisa e legível para operações matriciais e estatísticas. Isso pode resultar em código mais claro e fácil de entender, especialmente para quem está familiarizado com operações em arrays.\n",
    "\n",
    "### Conclusões Empíricas:\n",
    "\n",
    "Para análises estatísticas, operações numéricas e manipulação eficiente de grandes conjuntos de dados, o NumPy geralmente oferece vantagens de desempenho. No entanto, em cenários mais simples, a escolha entre listas e NumPy pode depender de fatores como facilidade de uso e legibilidade do código.\n",
    "\n",
    "\n",
    "\n",
    "\n",
    "\n"
   ]
  }
 ],
 "metadata": {
  "language_info": {
   "name": "python"
  }
 },
 "nbformat": 4,
 "nbformat_minor": 2
}
